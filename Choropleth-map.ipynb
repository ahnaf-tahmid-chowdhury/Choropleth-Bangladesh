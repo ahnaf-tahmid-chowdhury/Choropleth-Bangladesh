{
 "metadata": {
  "language_info": {
   "codemirror_mode": {
    "name": "ipython",
    "version": 3
   },
   "file_extension": ".py",
   "mimetype": "text/x-python",
   "name": "python",
   "nbconvert_exporter": "python",
   "pygments_lexer": "ipython3",
   "version": "3.8.2"
  },
  "orig_nbformat": 4,
  "kernelspec": {
   "name": "python3",
   "display_name": "Python 3.8.10 64-bit ('base': conda)"
  },
  "interpreter": {
   "hash": "ec113d76a6a515975ffb31bf8c8355898530f9ee0898fc13c28bc1f1b9b5e7cf"
  }
 },
 "nbformat": 4,
 "nbformat_minor": 2,
 "cells": [
  {
   "source": [
    "# Plotting Choropleth Maps using Python\n",
    "---\n",
    ">A choropleth map is a type of thematic map in which areas are shaded or patterned in proportion to a statistical variable that represents an aggregate summary of a geographic characteristic within each area, such as population density or per-capita income.\n"
   ],
   "cell_type": "markdown",
   "metadata": {}
  },
  {
   "cell_type": "code",
   "execution_count": 1,
   "metadata": {},
   "outputs": [],
   "source": [
    "from json import load"
   ]
  },
  {
   "source": [
    "Load all districts from geojson file"
   ],
   "cell_type": "markdown",
   "metadata": {}
  },
  {
   "cell_type": "code",
   "execution_count": 2,
   "metadata": {},
   "outputs": [],
   "source": [
    "bd_districts=load(open('bangladesh_geojson_adm2_64_districts_zillas.json','r'))"
   ]
  },
  {
   "cell_type": "code",
   "execution_count": 3,
   "metadata": {},
   "outputs": [
    {
     "output_type": "execute_result",
     "data": {
      "text/plain": [
       "dict_keys(['type', 'geometry', 'properties', 'id'])"
      ]
     },
     "metadata": {},
     "execution_count": 3
    }
   ],
   "source": [
    "bd_districts['features'][61].keys()"
   ]
  },
  {
   "source": [
    "import pandas as pd"
   ],
   "cell_type": "code",
   "metadata": {},
   "execution_count": 4,
   "outputs": []
  },
  {
   "cell_type": "code",
   "execution_count": 5,
   "metadata": {},
   "outputs": [],
   "source": [
    "dfs= pd.read_html('https://en.wikipedia.org/wiki/Districts_of_Bangladesh')"
   ]
  },
  {
   "cell_type": "code",
   "execution_count": 6,
   "metadata": {},
   "outputs": [
    {
     "output_type": "execute_result",
     "data": {
      "text/plain": [
       "13"
      ]
     },
     "metadata": {},
     "execution_count": 6
    }
   ],
   "source": [
    "len(dfs)"
   ]
  },
  {
   "cell_type": "code",
   "execution_count": 7,
   "metadata": {},
   "outputs": [
    {
     "output_type": "execute_result",
     "data": {
      "text/plain": [
       "                District     Bengali Division  Established  \\\n",
       "0       Barguna District      বরগুনা  Barisal         1984   \n",
       "1       Barisal District      বরিশাল  Barisal         1797   \n",
       "2         Bhola District        ভোলা  Barisal         1984   \n",
       "3     Jhalokati District     ঝালকাঠি  Barisal         1984   \n",
       "4    Patuakhali District  পটুয়াখালী  Barisal         1969   \n",
       "..                   ...         ...      ...          ...   \n",
       "59   Thakurgaon District   ঠাকুরগাঁও  Rangpur         1984   \n",
       "60     Habiganj District     হবিগঞ্জ   Sylhet         1984   \n",
       "61  Moulvibazar District  মৌলভীবাজার   Sylhet         1984   \n",
       "62    Sunamganj District   সুনামগঞ্জ   Sylhet         1984   \n",
       "63       Sylhet District       সিলেট   Sylhet         1782   \n",
       "\n",
       "    Population (thousands)[28]  Area (km2)[28]  \n",
       "0                          901            1940  \n",
       "1                         2426            2786  \n",
       "2                         1947            3405  \n",
       "3                          711             751  \n",
       "4                         1596            3221  \n",
       "..                         ...             ...  \n",
       "59                        1380            1810  \n",
       "60                        2059            2637  \n",
       "61                        1902            2799  \n",
       "62                        2443            3670  \n",
       "63                        5316            3490  \n",
       "\n",
       "[64 rows x 6 columns]"
      ],
      "text/html": "<div>\n<style scoped>\n    .dataframe tbody tr th:only-of-type {\n        vertical-align: middle;\n    }\n\n    .dataframe tbody tr th {\n        vertical-align: top;\n    }\n\n    .dataframe thead th {\n        text-align: right;\n    }\n</style>\n<table border=\"1\" class=\"dataframe\">\n  <thead>\n    <tr style=\"text-align: right;\">\n      <th></th>\n      <th>District</th>\n      <th>Bengali</th>\n      <th>Division</th>\n      <th>Established</th>\n      <th>Population (thousands)[28]</th>\n      <th>Area (km2)[28]</th>\n    </tr>\n  </thead>\n  <tbody>\n    <tr>\n      <th>0</th>\n      <td>Barguna District</td>\n      <td>বরগুনা</td>\n      <td>Barisal</td>\n      <td>1984</td>\n      <td>901</td>\n      <td>1940</td>\n    </tr>\n    <tr>\n      <th>1</th>\n      <td>Barisal District</td>\n      <td>বরিশাল</td>\n      <td>Barisal</td>\n      <td>1797</td>\n      <td>2426</td>\n      <td>2786</td>\n    </tr>\n    <tr>\n      <th>2</th>\n      <td>Bhola District</td>\n      <td>ভোলা</td>\n      <td>Barisal</td>\n      <td>1984</td>\n      <td>1947</td>\n      <td>3405</td>\n    </tr>\n    <tr>\n      <th>3</th>\n      <td>Jhalokati District</td>\n      <td>ঝালকাঠি</td>\n      <td>Barisal</td>\n      <td>1984</td>\n      <td>711</td>\n      <td>751</td>\n    </tr>\n    <tr>\n      <th>4</th>\n      <td>Patuakhali District</td>\n      <td>পটুয়াখালী</td>\n      <td>Barisal</td>\n      <td>1969</td>\n      <td>1596</td>\n      <td>3221</td>\n    </tr>\n    <tr>\n      <th>...</th>\n      <td>...</td>\n      <td>...</td>\n      <td>...</td>\n      <td>...</td>\n      <td>...</td>\n      <td>...</td>\n    </tr>\n    <tr>\n      <th>59</th>\n      <td>Thakurgaon District</td>\n      <td>ঠাকুরগাঁও</td>\n      <td>Rangpur</td>\n      <td>1984</td>\n      <td>1380</td>\n      <td>1810</td>\n    </tr>\n    <tr>\n      <th>60</th>\n      <td>Habiganj District</td>\n      <td>হবিগঞ্জ</td>\n      <td>Sylhet</td>\n      <td>1984</td>\n      <td>2059</td>\n      <td>2637</td>\n    </tr>\n    <tr>\n      <th>61</th>\n      <td>Moulvibazar District</td>\n      <td>মৌলভীবাজার</td>\n      <td>Sylhet</td>\n      <td>1984</td>\n      <td>1902</td>\n      <td>2799</td>\n    </tr>\n    <tr>\n      <th>62</th>\n      <td>Sunamganj District</td>\n      <td>সুনামগঞ্জ</td>\n      <td>Sylhet</td>\n      <td>1984</td>\n      <td>2443</td>\n      <td>3670</td>\n    </tr>\n    <tr>\n      <th>63</th>\n      <td>Sylhet District</td>\n      <td>সিলেট</td>\n      <td>Sylhet</td>\n      <td>1782</td>\n      <td>5316</td>\n      <td>3490</td>\n    </tr>\n  </tbody>\n</table>\n<p>64 rows × 6 columns</p>\n</div>"
     },
     "metadata": {},
     "execution_count": 7
    }
   ],
   "source": [
    "dfs[1]"
   ]
  },
  {
   "cell_type": "code",
   "execution_count": 8,
   "metadata": {},
   "outputs": [],
   "source": [
    "dfs[1].to_csv(\"Districts_of_Bangladesh.csv\")"
   ]
  },
  {
   "cell_type": "code",
   "execution_count": 9,
   "metadata": {},
   "outputs": [],
   "source": [
    "df=pd.read_csv(\"Districts_of_Bangladesh.csv\")"
   ]
  },
  {
   "cell_type": "code",
   "execution_count": 10,
   "metadata": {},
   "outputs": [
    {
     "output_type": "execute_result",
     "data": {
      "text/plain": [
       "   Unnamed: 0             District     Bengali Division  Established  \\\n",
       "0           0     Barguna District      বরগুনা  Barisal         1984   \n",
       "1           1     Barisal District      বরিশাল  Barisal         1797   \n",
       "2           2       Bhola District        ভোলা  Barisal         1984   \n",
       "3           3   Jhalokati District     ঝালকাঠি  Barisal         1984   \n",
       "4           4  Patuakhali District  পটুয়াখালী  Barisal         1969   \n",
       "\n",
       "   Population (thousands)[28]  Area (km2)[28]  \n",
       "0                         901            1940  \n",
       "1                        2426            2786  \n",
       "2                        1947            3405  \n",
       "3                         711             751  \n",
       "4                        1596            3221  "
      ],
      "text/html": "<div>\n<style scoped>\n    .dataframe tbody tr th:only-of-type {\n        vertical-align: middle;\n    }\n\n    .dataframe tbody tr th {\n        vertical-align: top;\n    }\n\n    .dataframe thead th {\n        text-align: right;\n    }\n</style>\n<table border=\"1\" class=\"dataframe\">\n  <thead>\n    <tr style=\"text-align: right;\">\n      <th></th>\n      <th>Unnamed: 0</th>\n      <th>District</th>\n      <th>Bengali</th>\n      <th>Division</th>\n      <th>Established</th>\n      <th>Population (thousands)[28]</th>\n      <th>Area (km2)[28]</th>\n    </tr>\n  </thead>\n  <tbody>\n    <tr>\n      <th>0</th>\n      <td>0</td>\n      <td>Barguna District</td>\n      <td>বরগুনা</td>\n      <td>Barisal</td>\n      <td>1984</td>\n      <td>901</td>\n      <td>1940</td>\n    </tr>\n    <tr>\n      <th>1</th>\n      <td>1</td>\n      <td>Barisal District</td>\n      <td>বরিশাল</td>\n      <td>Barisal</td>\n      <td>1797</td>\n      <td>2426</td>\n      <td>2786</td>\n    </tr>\n    <tr>\n      <th>2</th>\n      <td>2</td>\n      <td>Bhola District</td>\n      <td>ভোলা</td>\n      <td>Barisal</td>\n      <td>1984</td>\n      <td>1947</td>\n      <td>3405</td>\n    </tr>\n    <tr>\n      <th>3</th>\n      <td>3</td>\n      <td>Jhalokati District</td>\n      <td>ঝালকাঠি</td>\n      <td>Barisal</td>\n      <td>1984</td>\n      <td>711</td>\n      <td>751</td>\n    </tr>\n    <tr>\n      <th>4</th>\n      <td>4</td>\n      <td>Patuakhali District</td>\n      <td>পটুয়াখালী</td>\n      <td>Barisal</td>\n      <td>1969</td>\n      <td>1596</td>\n      <td>3221</td>\n    </tr>\n  </tbody>\n</table>\n</div>"
     },
     "metadata": {},
     "execution_count": 10
    }
   ],
   "source": [
    "df.head()"
   ]
  },
  {
   "cell_type": "code",
   "execution_count": 11,
   "metadata": {},
   "outputs": [
    {
     "output_type": "execute_result",
     "data": {
      "text/plain": [
       "0      901\n",
       "1     2426\n",
       "2     1947\n",
       "3      711\n",
       "4     1596\n",
       "      ... \n",
       "59    1380\n",
       "60    2059\n",
       "61    1902\n",
       "62    2443\n",
       "63    5316\n",
       "Name: Population (thousands)[28], Length: 64, dtype: int64"
      ]
     },
     "metadata": {},
     "execution_count": 11
    }
   ],
   "source": [
    "df[\"Population (thousands)[28]\"]"
   ]
  },
  {
   "cell_type": "code",
   "execution_count": 18,
   "metadata": {},
   "outputs": [
    {
     "output_type": "execute_result",
     "data": {
      "text/plain": [
       "0         Barguna District\n",
       "1         Barisal District\n",
       "2           Bhola District\n",
       "3       Jhalokati District\n",
       "4      Patuakhali District\n",
       "              ...         \n",
       "59     Thakurgaon District\n",
       "60       Habiganj District\n",
       "61    Moulvibazar District\n",
       "62      Sunamganj District\n",
       "63         Sylhet District\n",
       "Name: District, Length: 64, dtype: object"
      ]
     },
     "metadata": {},
     "execution_count": 18
    }
   ],
   "source": [
    "df.District\t= "
   ]
  },
  {
   "cell_type": "code",
   "execution_count": null,
   "metadata": {},
   "outputs": [],
   "source": []
  }
 ]
}